{
 "cells": [
  {
   "cell_type": "code",
   "execution_count": 2,
   "outputs": [],
   "source": [
    "import numpy as np\n",
    "import torch\n",
    "from modAL.models import ActiveLearner\n",
    "from skorch import NeuralNetClassifier\n",
    "from torch import nn\n",
    "from torch.utils.data import DataLoader\n",
    "from torchvision.datasets import MNIST\n",
    "from torchvision.transforms import ToTensor"
   ],
   "metadata": {
    "collapsed": false
   }
  },
  {
   "cell_type": "code",
   "execution_count": 3,
   "outputs": [],
   "source": [
    "# This class defines the architecture of the neural network\n",
    "# The architecture contains 2 convolutional layers and 2 fully connected layers\n",
    "class Torch_Model(nn.Module):\n",
    "    def __init__(self,):\n",
    "        super(Torch_Model, self).__init__()\n",
    "        self.convs = nn.Sequential(\n",
    "                                nn.Conv2d(1,32,3),\n",
    "                                nn.ReLU(),\n",
    "                                nn.Conv2d(32,64,3),\n",
    "                                nn.ReLU(),\n",
    "                                nn.MaxPool2d(2),\n",
    "                                nn.Dropout(0.25)\n",
    "        )\n",
    "        self.fcs = nn.Sequential(\n",
    "                                nn.Linear(12*12*64,128),\n",
    "                                nn.ReLU(),\n",
    "                                nn.Dropout(0.5),\n",
    "                                nn.Linear(128,10),\n",
    "        )\n",
    "\n",
    "    def forward(self, x):\n",
    "        out = x\n",
    "        out = self.convs(out)\n",
    "        out = out.view(-1,12*12*64)\n",
    "        out = self.fcs(out)\n",
    "        return out"
   ],
   "metadata": {
    "collapsed": false
   }
  },
  {
   "cell_type": "code",
   "execution_count": 12,
   "outputs": [],
   "source": [
    "# Here we initialize the neural network classifier\n",
    "device = \"cuda\" if torch.cuda.is_available() else \"cpu\"\n",
    "classifier = NeuralNetClassifier(Torch_Model,\n",
    "                                 max_epochs=2,\n",
    "                                 criterion=nn.CrossEntropyLoss,\n",
    "                                 optimizer=torch.optim.Adam,\n",
    "                                 train_split=None,\n",
    "                                 verbose=1,\n",
    "                                 device=device)\n"
   ],
   "metadata": {
    "collapsed": false
   }
  },
  {
   "cell_type": "code",
   "execution_count": 13,
   "outputs": [],
   "source": [
    "# Load in MNIST data\n",
    "mnist_data = MNIST('.', download=True, transform=ToTensor())\n",
    "dataloader = DataLoader(mnist_data, shuffle=True, batch_size=60000)\n",
    "X, y = next(iter(dataloader))\n",
    "\n",
    "# read training data\n",
    "X_train, X_test, y_train, y_test = X[:50000], X[50000:], y[:50000], y[50000:]\n",
    "X_train = X_train.reshape(50000, 1, 28, 28)\n",
    "X_test = X_test.reshape(10000, 1, 28, 28)"
   ],
   "metadata": {
    "collapsed": false
   }
  },
  {
   "cell_type": "code",
   "execution_count": 14,
   "outputs": [
    {
     "name": "stdout",
     "output_type": "stream",
     "text": [
      "  epoch    train_loss      dur\n",
      "-------  ------------  -------\n",
      "      1        \u001B[36m0.6239\u001B[0m  40.8118\n",
      "      2        \u001B[36m0.4294\u001B[0m  37.6095\n",
      "0.9459\n"
     ]
    }
   ],
   "source": [
    "# First, we train a classifier on all the training data to get a baseline accuracy\n",
    "classifier.fit(X_train, y_train)\n",
    "print(classifier.score(X_test, y_test))"
   ],
   "metadata": {
    "collapsed": false
   }
  },
  {
   "cell_type": "code",
   "execution_count": 15,
   "outputs": [],
   "source": [
    "# Next, we will setup the dataset for active learning\n",
    "n_initial = 1000\n",
    "initial_idx = np.random.choice(range(len(X_train)), size=n_initial, replace=False)\n",
    "X_initial = X_train[initial_idx]\n",
    "y_initial = y_train[initial_idx]\n",
    "\n",
    "# generate the pool\n",
    "# remove the initial data from the training dataset\n",
    "X_pool = np.delete(X_train, initial_idx, axis=0)\n",
    "y_pool = np.delete(y_train, initial_idx, axis=0)"
   ],
   "metadata": {
    "collapsed": false
   }
  },
  {
   "cell_type": "code",
   "execution_count": 16,
   "outputs": [
    {
     "name": "stdout",
     "output_type": "stream",
     "text": [
      "Re-initializing module.\n",
      "Re-initializing criterion.\n",
      "Re-initializing optimizer.\n",
      "  epoch    train_loss     dur\n",
      "-------  ------------  ------\n",
      "      1        \u001B[36m2.5839\u001B[0m  0.6879\n",
      "      2        \u001B[36m1.1351\u001B[0m  0.7760\n",
      "0.8019\n"
     ]
    }
   ],
   "source": [
    "# Now we will initialize the active learner and print the accuracy\n",
    "learner = ActiveLearner(\n",
    "    estimator=classifier,\n",
    "    X_training=X_initial, y_training=y_initial,\n",
    ")\n",
    "\n",
    "print(learner.score(X_test, y_test))"
   ],
   "metadata": {
    "collapsed": false
   }
  },
  {
   "cell_type": "code",
   "execution_count": 17,
   "outputs": [
    {
     "name": "stdout",
     "output_type": "stream",
     "text": [
      "Re-initializing module.\n",
      "Re-initializing criterion.\n",
      "Re-initializing optimizer.\n",
      "  epoch    train_loss     dur\n",
      "-------  ------------  ------\n",
      "      1        \u001B[36m2.2810\u001B[0m  0.0792\n",
      "      2        8.4062  0.0747\n",
      "Re-initializing module.\n",
      "Re-initializing criterion.\n",
      "Re-initializing optimizer.\n",
      "  epoch    train_loss     dur\n",
      "-------  ------------  ------\n",
      "      1        \u001B[36m2.2762\u001B[0m  0.0780\n",
      "      2        9.2068  0.0778\n",
      "Re-initializing module.\n",
      "Re-initializing criterion.\n",
      "Re-initializing optimizer.\n",
      "  epoch    train_loss     dur\n",
      "-------  ------------  ------\n",
      "      1        \u001B[36m2.2906\u001B[0m  0.0706\n",
      "      2        \u001B[36m0.0000\u001B[0m  0.0729\n",
      "Re-initializing module.\n",
      "Re-initializing criterion.\n",
      "Re-initializing optimizer.\n",
      "  epoch    train_loss     dur\n",
      "-------  ------------  ------\n",
      "      1        \u001B[36m2.2981\u001B[0m  0.0760\n",
      "      2        6.1216  0.0751\n",
      "Re-initializing module.\n",
      "Re-initializing criterion.\n",
      "Re-initializing optimizer.\n",
      "  epoch    train_loss     dur\n",
      "-------  ------------  ------\n",
      "      1        \u001B[36m2.2889\u001B[0m  0.0713\n",
      "      2        \u001B[36m0.9308\u001B[0m  0.0748\n",
      "Re-initializing module.\n",
      "Re-initializing criterion.\n",
      "Re-initializing optimizer.\n",
      "  epoch    train_loss     dur\n",
      "-------  ------------  ------\n",
      "      1        \u001B[36m2.3155\u001B[0m  0.0718\n",
      "      2        \u001B[36m0.0000\u001B[0m  0.0774\n",
      "Re-initializing module.\n",
      "Re-initializing criterion.\n",
      "Re-initializing optimizer.\n",
      "  epoch    train_loss     dur\n",
      "-------  ------------  ------\n",
      "      1        \u001B[36m2.3006\u001B[0m  0.0796\n",
      "      2        8.4382  0.0723\n",
      "Re-initializing module.\n",
      "Re-initializing criterion.\n",
      "Re-initializing optimizer.\n",
      "  epoch    train_loss     dur\n",
      "-------  ------------  ------\n",
      "      1        \u001B[36m2.2650\u001B[0m  0.0760\n",
      "      2        \u001B[36m0.7129\u001B[0m  0.0731\n",
      "Re-initializing module.\n",
      "Re-initializing criterion.\n",
      "Re-initializing optimizer.\n",
      "  epoch    train_loss     dur\n",
      "-------  ------------  ------\n",
      "      1        \u001B[36m2.2900\u001B[0m  0.0731\n",
      "      2        9.1387  0.0770\n",
      "Re-initializing module.\n",
      "Re-initializing criterion.\n",
      "Re-initializing optimizer.\n",
      "  epoch    train_loss     dur\n",
      "-------  ------------  ------\n",
      "      1        \u001B[36m2.2715\u001B[0m  0.0804\n",
      "      2        4.4191  0.0738\n",
      "0.1015\n"
     ]
    }
   ],
   "source": [
    "# Now we will run the active learning loop and print the accuracy\n",
    "n_queries = 10\n",
    "for idx in range(n_queries):\n",
    "    query_idx, query_instance = learner.query(X_pool, n_instances=100)\n",
    "    learner.teach(X_pool[query_idx], y_pool[query_idx], only_new=True)\n",
    "    # remove queried instance from pool\n",
    "    X_pool = np.delete(X_pool, query_idx, axis=0)\n",
    "    y_pool = np.delete(y_pool, query_idx, axis=0)\n",
    "\n",
    "# the final accuracy score\n",
    "print(learner.score(X_test, y_test))"
   ],
   "metadata": {
    "collapsed": false
   }
  },
  {
   "cell_type": "code",
   "execution_count": null,
   "outputs": [],
   "source": [],
   "metadata": {
    "collapsed": false
   }
  }
 ],
 "metadata": {
  "kernelspec": {
   "display_name": "Python 3",
   "language": "python",
   "name": "python3"
  },
  "language_info": {
   "codemirror_mode": {
    "name": "ipython",
    "version": 2
   },
   "file_extension": ".py",
   "mimetype": "text/x-python",
   "name": "python",
   "nbconvert_exporter": "python",
   "pygments_lexer": "ipython2",
   "version": "2.7.6"
  }
 },
 "nbformat": 4,
 "nbformat_minor": 0
}
