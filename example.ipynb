{
 "cells": [
  {
   "cell_type": "code",
   "execution_count": 1,
   "metadata": {
    "collapsed": true
   },
   "outputs": [],
   "source": [
    "import numpy as np\n",
    "\n",
    "X = np.random.choice(np.linspace(0, 20, 10000), size=200, replace=False).reshape(-1, 1)\n",
    "y = np.sin(X) + np.random.normal(scale=0.3, size=X.shape)"
   ]
  },
  {
   "cell_type": "code",
   "execution_count": 2,
   "outputs": [],
   "source": [
    "def GP_regression_std(regressor, X):\n",
    "    _, std = regressor.predict(X, return_std=True)\n",
    "    return np.argmax(std)"
   ],
   "metadata": {
    "collapsed": false
   }
  },
  {
   "cell_type": "code",
   "execution_count": 3,
   "outputs": [],
   "source": [
    "from modAL.models import ActiveLearner\n",
    "from sklearn.gaussian_process import GaussianProcessRegressor\n",
    "from sklearn.gaussian_process.kernels import WhiteKernel, RBF\n",
    "\n",
    "n_initial = 5\n",
    "initial_idx = np.random.choice(range(len(X)), size=n_initial, replace=False)\n",
    "X_training, y_training = X[initial_idx], y[initial_idx]\n",
    "\n",
    "kernel = RBF(length_scale=1.0, length_scale_bounds=(1e-2, 1e3)) \\\n",
    "         + WhiteKernel(noise_level=1, noise_level_bounds=(1e-10, 1e+1))\n",
    "\n",
    "regressor = ActiveLearner(\n",
    "    estimator=GaussianProcessRegressor(kernel=kernel),\n",
    "    query_strategy=GP_regression_std,\n",
    "    X_training=X_training.reshape(-1, 1), y_training=y_training.reshape(-1, 1)\n",
    ")"
   ],
   "metadata": {
    "collapsed": false
   }
  },
  {
   "cell_type": "code",
   "execution_count": 6,
   "outputs": [
    {
     "name": "stdout",
     "output_type": "stream",
     "text": [
      "Query 1 for 178: [8.85688569]\n",
      "Query 2 for 111: [12.41724172]\n",
      "Query 3 for 186: [18.18981898]\n",
      "Query 4 for 43: [19.849985]\n",
      "Query 5 for 151: [6.22662266]\n",
      "Query 6 for 74: [3.06430643]\n",
      "Query 7 for 138: [1.29612961]\n",
      "Query 8 for 108: [15.61956196]\n",
      "Query 9 for 190: [10.95509551]\n",
      "Query 10 for 163: [4.13641364]\n"
     ]
    }
   ],
   "source": [
    "# active learning\n",
    "n_queries = 10\n",
    "for idx in range(n_queries):\n",
    "    query_idx, query_instance = regressor.query(X)\n",
    "    print(f\"Query {idx+1} for {query_idx}: {query_instance}\")\n",
    "    regressor.teach(X[query_idx].reshape(1, -1), y[query_idx].reshape(1, -1))"
   ],
   "metadata": {
    "collapsed": false
   }
  },
  {
   "cell_type": "code",
   "execution_count": 1,
   "outputs": [],
   "source": [
    "\n",
    "import numpy as np\n",
    "import torch\n",
    "from modAL.models import ActiveLearner\n",
    "from skorch import NeuralNetClassifier\n",
    "from torch import nn\n",
    "from torch.utils.data import DataLoader\n",
    "from torchvision.datasets import MNIST\n",
    "from torchvision.transforms import ToTensor\n"
   ],
   "metadata": {
    "collapsed": false
   }
  },
  {
   "cell_type": "code",
   "execution_count": 2,
   "outputs": [],
   "source": [
    "class Torch_Model(nn.Module):\n",
    "    def __init__(self,):\n",
    "        super(Torch_Model, self).__init__()\n",
    "        self.convs = nn.Sequential(\n",
    "                                nn.Conv2d(1,32,3),\n",
    "                                nn.ReLU(),\n",
    "                                nn.Conv2d(32,64,3),\n",
    "                                nn.ReLU(),\n",
    "                                nn.MaxPool2d(2),\n",
    "                                nn.Dropout(0.25)\n",
    "        )\n",
    "        self.fcs = nn.Sequential(\n",
    "                                nn.Linear(12*12*64,128),\n",
    "                                nn.ReLU(),\n",
    "                                nn.Dropout(0.5),\n",
    "                                nn.Linear(128,10),\n",
    "        )\n",
    "\n",
    "    def forward(self, x):\n",
    "        out = x\n",
    "        out = self.convs(out)\n",
    "        out = out.view(-1,12*12*64)\n",
    "        out = self.fcs(out)\n",
    "        return out"
   ],
   "metadata": {
    "collapsed": false
   }
  },
  {
   "cell_type": "code",
   "execution_count": 3,
   "outputs": [],
   "source": [
    "device = \"cuda\" if torch.cuda.is_available() else \"cpu\"\n",
    "classifier = NeuralNetClassifier(Torch_Model,\n",
    "                                 # max_epochs=100,\n",
    "                                 criterion=nn.CrossEntropyLoss,\n",
    "                                 optimizer=torch.optim.Adam,\n",
    "                                 train_split=None,\n",
    "                                 verbose=1,\n",
    "                                 device=device)\n"
   ],
   "metadata": {
    "collapsed": false
   }
  },
  {
   "cell_type": "code",
   "execution_count": 4,
   "outputs": [
    {
     "name": "stdout",
     "output_type": "stream",
     "text": [
      "Downloading http://yann.lecun.com/exdb/mnist/train-images-idx3-ubyte.gz\n",
      "Downloading http://yann.lecun.com/exdb/mnist/train-images-idx3-ubyte.gz to ./MNIST/raw/train-images-idx3-ubyte.gz\n"
     ]
    },
    {
     "name": "stderr",
     "output_type": "stream",
     "text": [
      "100%|██████████| 9912422/9912422 [00:00<00:00, 31025260.99it/s]\n"
     ]
    },
    {
     "name": "stdout",
     "output_type": "stream",
     "text": [
      "Extracting ./MNIST/raw/train-images-idx3-ubyte.gz to ./MNIST/raw\n",
      "\n",
      "Downloading http://yann.lecun.com/exdb/mnist/train-labels-idx1-ubyte.gz\n",
      "Downloading http://yann.lecun.com/exdb/mnist/train-labels-idx1-ubyte.gz to ./MNIST/raw/train-labels-idx1-ubyte.gz\n"
     ]
    },
    {
     "name": "stderr",
     "output_type": "stream",
     "text": [
      "100%|██████████| 28881/28881 [00:00<00:00, 20643437.94it/s]\n"
     ]
    },
    {
     "name": "stdout",
     "output_type": "stream",
     "text": [
      "Extracting ./MNIST/raw/train-labels-idx1-ubyte.gz to ./MNIST/raw\n",
      "\n",
      "Downloading http://yann.lecun.com/exdb/mnist/t10k-images-idx3-ubyte.gz\n",
      "Downloading http://yann.lecun.com/exdb/mnist/t10k-images-idx3-ubyte.gz to ./MNIST/raw/t10k-images-idx3-ubyte.gz\n"
     ]
    },
    {
     "name": "stderr",
     "output_type": "stream",
     "text": [
      "100%|██████████| 1648877/1648877 [00:00<00:00, 24436828.95it/s]\n"
     ]
    },
    {
     "name": "stdout",
     "output_type": "stream",
     "text": [
      "Extracting ./MNIST/raw/t10k-images-idx3-ubyte.gz to ./MNIST/raw\n",
      "\n",
      "Downloading http://yann.lecun.com/exdb/mnist/t10k-labels-idx1-ubyte.gz\n",
      "Downloading http://yann.lecun.com/exdb/mnist/t10k-labels-idx1-ubyte.gz to ./MNIST/raw/t10k-labels-idx1-ubyte.gz\n"
     ]
    },
    {
     "name": "stderr",
     "output_type": "stream",
     "text": [
      "100%|██████████| 4542/4542 [00:00<00:00, 8007788.47it/s]\n"
     ]
    },
    {
     "name": "stdout",
     "output_type": "stream",
     "text": [
      "Extracting ./MNIST/raw/t10k-labels-idx1-ubyte.gz to ./MNIST/raw\n",
      "\n"
     ]
    }
   ],
   "source": [
    "\n",
    "mnist_data = MNIST('.', download=True, transform=ToTensor())\n",
    "dataloader = DataLoader(mnist_data, shuffle=True, batch_size=60000)\n",
    "X, y = next(iter(dataloader))\n",
    "\n",
    "# read training data\n",
    "X_train, X_test, y_train, y_test = X[:50000], X[50000:], y[:50000], y[50000:]\n",
    "X_train = X_train.reshape(50000, 1, 28, 28)\n",
    "X_test = X_test.reshape(10000, 1, 28, 28)\n",
    "\n",
    "# assemble initial data\n",
    "n_initial = 1000\n",
    "initial_idx = np.random.choice(range(len(X_train)), size=n_initial, replace=False)\n",
    "X_initial = X_train[initial_idx]\n",
    "y_initial = y_train[initial_idx]\n",
    "\n",
    "# generate the pool\n",
    "# remove the initial data from the training dataset\n",
    "X_pool = np.delete(X_train, initial_idx, axis=0)\n",
    "y_pool = np.delete(y_train, initial_idx, axis=0)"
   ],
   "metadata": {
    "collapsed": false
   }
  },
  {
   "cell_type": "code",
   "execution_count": 7,
   "outputs": [
    {
     "name": "stdout",
     "output_type": "stream",
     "text": [
      "Re-initializing module.\n",
      "Re-initializing criterion.\n",
      "Re-initializing optimizer.\n",
      "  epoch    train_loss     dur\n",
      "-------  ------------  ------\n",
      "      1        \u001B[36m3.4606\u001B[0m  0.9597\n",
      "      2        \u001B[36m2.3026\u001B[0m  0.8266\n",
      "      3        \u001B[36m2.3020\u001B[0m  0.7573\n",
      "      4        \u001B[36m2.3012\u001B[0m  0.7661\n",
      "      5        \u001B[36m2.3006\u001B[0m  0.9682\n",
      "      6        \u001B[36m2.3000\u001B[0m  0.7544\n",
      "      7        \u001B[36m2.2997\u001B[0m  0.7829\n",
      "      8        2.2999  0.7589\n",
      "      9        \u001B[36m2.2994\u001B[0m  0.7503\n",
      "     10        \u001B[36m2.2990\u001B[0m  0.7270\n",
      "0.0988\n"
     ]
    }
   ],
   "source": [
    "learner = ActiveLearner(\n",
    "    estimator=classifier,\n",
    "    X_training=X_initial, y_training=y_initial,\n",
    ")\n",
    "\n",
    "print(learner.score(X_test, y_test))"
   ],
   "metadata": {
    "collapsed": false
   }
  },
  {
   "cell_type": "code",
   "execution_count": 6,
   "outputs": [
    {
     "name": "stdout",
     "output_type": "stream",
     "text": [
      "Re-initializing module.\n",
      "Re-initializing criterion.\n",
      "Re-initializing optimizer.\n",
      "  epoch    train_loss     dur\n",
      "-------  ------------  ------\n",
      "      1        \u001B[36m2.2972\u001B[0m  0.0735\n",
      "      2        7.5593  0.0835\n",
      "      3        2.7461  0.0805\n",
      "      4        2.3213  0.0755\n",
      "      5        \u001B[36m2.2789\u001B[0m  0.0760\n",
      "      6        \u001B[36m2.2761\u001B[0m  0.0763\n",
      "      7        \u001B[36m2.2710\u001B[0m  0.0788\n",
      "      8        \u001B[36m2.2669\u001B[0m  0.0769\n",
      "      9        \u001B[36m2.2607\u001B[0m  0.0799\n",
      "     10        \u001B[36m2.2450\u001B[0m  0.0786\n",
      "Re-initializing module.\n",
      "Re-initializing criterion.\n",
      "Re-initializing optimizer.\n",
      "  epoch    train_loss     dur\n",
      "-------  ------------  ------\n",
      "      1        \u001B[36m2.2948\u001B[0m  0.0739\n",
      "      2        9.1167  0.0774\n",
      "      3        \u001B[36m2.2923\u001B[0m  0.0793\n",
      "      4        \u001B[36m2.2423\u001B[0m  0.0766\n",
      "      5        2.2639  0.0783\n",
      "      6        2.2553  0.0782\n",
      "      7        \u001B[36m2.2423\u001B[0m  0.0738\n",
      "      8        \u001B[36m2.2318\u001B[0m  0.0781\n",
      "      9        \u001B[36m2.2196\u001B[0m  0.0824\n",
      "     10        \u001B[36m2.2013\u001B[0m  0.0789\n",
      "Re-initializing module.\n",
      "Re-initializing criterion.\n",
      "Re-initializing optimizer.\n",
      "  epoch    train_loss     dur\n",
      "-------  ------------  ------\n",
      "      1        \u001B[36m2.3213\u001B[0m  0.0760\n",
      "      2        8.4957  0.0852\n",
      "      3        4.3415  0.0778\n",
      "      4        \u001B[36m2.2292\u001B[0m  0.0723\n",
      "      5        \u001B[36m2.1188\u001B[0m  0.0785\n",
      "      6        \u001B[36m1.8533\u001B[0m  0.0771\n",
      "      7        \u001B[36m1.7726\u001B[0m  0.0764\n",
      "      8        \u001B[36m1.5621\u001B[0m  0.0752\n",
      "      9        \u001B[36m1.3496\u001B[0m  0.0799\n",
      "     10        \u001B[36m1.2255\u001B[0m  0.0775\n",
      "Re-initializing module.\n",
      "Re-initializing criterion.\n",
      "Re-initializing optimizer.\n",
      "  epoch    train_loss     dur\n",
      "-------  ------------  ------\n",
      "      1        \u001B[36m2.2813\u001B[0m  0.0743\n",
      "      2        4.4304  0.0885\n",
      "      3        2.6647  0.1306\n",
      "      4        \u001B[36m1.7311\u001B[0m  0.0792\n",
      "      5        \u001B[36m1.2078\u001B[0m  0.0806\n",
      "      6        1.2119  0.0759\n",
      "      7        \u001B[36m0.7857\u001B[0m  0.0744\n",
      "      8        \u001B[36m0.5393\u001B[0m  0.0854\n",
      "      9        \u001B[36m0.5026\u001B[0m  0.0828\n",
      "     10        \u001B[36m0.4435\u001B[0m  0.0734\n",
      "Re-initializing module.\n",
      "Re-initializing criterion.\n",
      "Re-initializing optimizer.\n",
      "  epoch    train_loss     dur\n",
      "-------  ------------  ------\n",
      "      1        \u001B[36m2.3290\u001B[0m  0.0755\n",
      "      2        4.9700  0.0806\n",
      "      3        3.5015  0.0842\n",
      "      4        \u001B[36m2.2828\u001B[0m  0.0764\n",
      "      5        2.2835  0.0823\n",
      "      6        \u001B[36m2.2516\u001B[0m  0.0829\n",
      "      7        \u001B[36m2.1763\u001B[0m  0.0756\n",
      "      8        \u001B[36m2.0554\u001B[0m  0.0753\n",
      "      9        \u001B[36m1.9412\u001B[0m  0.0804\n",
      "     10        \u001B[36m1.7632\u001B[0m  0.0731\n",
      "Re-initializing module.\n",
      "Re-initializing criterion.\n",
      "Re-initializing optimizer.\n",
      "  epoch    train_loss     dur\n",
      "-------  ------------  ------\n",
      "      1        \u001B[36m2.3637\u001B[0m  0.0748\n",
      "      2        7.1109  0.0766\n",
      "      3        \u001B[36m0.9310\u001B[0m  0.0810\n",
      "      4        2.0737  0.0821\n",
      "      5        2.0470  0.0759\n",
      "      6        1.7190  0.0782\n",
      "      7        1.4424  0.0773\n",
      "      8        1.0844  0.0774\n",
      "      9        0.9317  0.0862\n",
      "     10        1.1988  0.0850\n",
      "Re-initializing module.\n",
      "Re-initializing criterion.\n",
      "Re-initializing optimizer.\n",
      "  epoch    train_loss     dur\n",
      "-------  ------------  ------\n",
      "      1        \u001B[36m2.2860\u001B[0m  0.0832\n",
      "      2        2.4195  0.0756\n",
      "      3        \u001B[36m1.3261\u001B[0m  0.0755\n",
      "      4        \u001B[36m0.7290\u001B[0m  0.0818\n",
      "      5        \u001B[36m0.4605\u001B[0m  0.0898\n",
      "      6        0.5047  0.0767\n",
      "      7        \u001B[36m0.2703\u001B[0m  0.0795\n",
      "      8        0.3349  0.0767\n",
      "      9        \u001B[36m0.2315\u001B[0m  0.0736\n",
      "     10        \u001B[36m0.1708\u001B[0m  0.0776\n",
      "Re-initializing module.\n",
      "Re-initializing criterion.\n",
      "Re-initializing optimizer.\n",
      "  epoch    train_loss     dur\n",
      "-------  ------------  ------\n",
      "      1        \u001B[36m2.2839\u001B[0m  0.0727\n",
      "      2        \u001B[36m1.2969\u001B[0m  0.0750\n",
      "      3        \u001B[36m0.3522\u001B[0m  0.0778\n",
      "      4        0.8871  0.0831\n",
      "      5        \u001B[36m0.2891\u001B[0m  0.0751\n",
      "      6        \u001B[36m0.2502\u001B[0m  0.0838\n",
      "      7        \u001B[36m0.1622\u001B[0m  0.0772\n",
      "      8        0.2051  0.0748\n",
      "      9        \u001B[36m0.1214\u001B[0m  0.0751\n",
      "     10        \u001B[36m0.0611\u001B[0m  0.0783\n",
      "Re-initializing module.\n",
      "Re-initializing criterion.\n",
      "Re-initializing optimizer.\n",
      "  epoch    train_loss     dur\n",
      "-------  ------------  ------\n",
      "      1        \u001B[36m2.3221\u001B[0m  0.0763\n",
      "      2        8.7637  0.0771\n",
      "      3        \u001B[36m2.2014\u001B[0m  0.0808\n",
      "      4        \u001B[36m2.1435\u001B[0m  0.0746\n",
      "      5        2.1530  0.0848\n",
      "      6        \u001B[36m2.0942\u001B[0m  0.0809\n",
      "      7        \u001B[36m1.8875\u001B[0m  0.0783\n",
      "      8        \u001B[36m1.5833\u001B[0m  0.0768\n",
      "      9        \u001B[36m1.2368\u001B[0m  0.0753\n",
      "     10        \u001B[36m1.1887\u001B[0m  0.0774\n",
      "Re-initializing module.\n",
      "Re-initializing criterion.\n",
      "Re-initializing optimizer.\n",
      "  epoch    train_loss     dur\n",
      "-------  ------------  ------\n",
      "      1        \u001B[36m2.3083\u001B[0m  0.0823\n",
      "      2        8.9235  0.0805\n",
      "      3        3.6503  0.0802\n",
      "      4        \u001B[36m2.2553\u001B[0m  0.0765\n",
      "      5        \u001B[36m2.1706\u001B[0m  0.0816\n",
      "      6        \u001B[36m1.9306\u001B[0m  0.0760\n",
      "      7        \u001B[36m1.7601\u001B[0m  0.0768\n",
      "      8        \u001B[36m1.7229\u001B[0m  0.0797\n",
      "      9        \u001B[36m1.4951\u001B[0m  0.0810\n",
      "     10        \u001B[36m1.2297\u001B[0m  0.0779\n",
      "0.2795\n"
     ]
    }
   ],
   "source": [
    "n_queries = 10\n",
    "for idx in range(n_queries):\n",
    "    query_idx, query_instance = learner.query(X_pool, n_instances=100)\n",
    "    learner.teach(X_pool[query_idx], y_pool[query_idx], only_new=True)\n",
    "    # remove queried instance from pool\n",
    "    X_pool = np.delete(X_pool, query_idx, axis=0)\n",
    "    y_pool = np.delete(y_pool, query_idx, axis=0)\n",
    "\n",
    "# the final accuracy score\n",
    "print(learner.score(X_test, y_test))"
   ],
   "metadata": {
    "collapsed": false
   }
  },
  {
   "cell_type": "code",
   "execution_count": null,
   "outputs": [],
   "source": [],
   "metadata": {
    "collapsed": false
   }
  }
 ],
 "metadata": {
  "kernelspec": {
   "display_name": "Python 3",
   "language": "python",
   "name": "python3"
  },
  "language_info": {
   "codemirror_mode": {
    "name": "ipython",
    "version": 2
   },
   "file_extension": ".py",
   "mimetype": "text/x-python",
   "name": "python",
   "nbconvert_exporter": "python",
   "pygments_lexer": "ipython2",
   "version": "2.7.6"
  }
 },
 "nbformat": 4,
 "nbformat_minor": 0
}
